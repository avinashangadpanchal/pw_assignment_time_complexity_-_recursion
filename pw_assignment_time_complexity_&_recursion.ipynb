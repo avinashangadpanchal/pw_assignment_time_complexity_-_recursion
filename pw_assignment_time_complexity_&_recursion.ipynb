{
  "nbformat": 4,
  "nbformat_minor": 0,
  "metadata": {
    "colab": {
      "provenance": []
    },
    "kernelspec": {
      "name": "python3",
      "display_name": "Python 3"
    },
    "language_info": {
      "name": "python"
    }
  },
  "cells": [
    {
      "cell_type": "code",
      "execution_count": null,
      "metadata": {
        "id": "dZQl2Z6MG2-o"
      },
      "outputs": [],
      "source": [
        "# Question : Find time complexity of below code blocks\n",
        "# Problem 1 :\n",
        "# def quicksort(arr):\n",
        "# if len(arr) <= 1:\n",
        "# return arr\n",
        "# pivot = arr[len(arr) // 2]\n",
        "# left = [x for x in arr if x < pivot]\n",
        "# middle = [x for x in arr if x == pivot]\n",
        "# right = [x for x in arr if x > pivot]\n",
        "# return quicksort(left) + middle + quicksort(right)\n",
        "\n",
        "\n",
        "# Answer:\n",
        "# The time complexity of the quicksort function is O(n log n) on average.\n",
        "# In the worst case, it can be O(n^2).\n",
        "# This is because the partitioning step takes O(n) time, and this step is repeated\n",
        "# log n times on average.\n",
        "\n",
        "# However, in the worst case, if the pivot is always the smallest or largest element,\n",
        "# the partitioning step will take O(n) time and it will be repeated n times,\n",
        "# resulting in O(n^2) time complexity.\n"
      ]
    },
    {
      "cell_type": "code",
      "source": [
        "# Question : Find time complexity of below code blocks\n",
        "# def nested_loop_example(matrix):\n",
        "# rows, cols = len(matrix), len(matrix[0])\n",
        "# total = 0\n",
        "# for i in range(rows):\n",
        "# for j in range(cols):\n",
        "# total += matrix[i][j]\n",
        "# return total\n",
        "\n",
        "\n",
        "#Answer:\n",
        "# The time complexity of the nested_loop_example function is O(n*m),\n",
        "# where n is the number of rows and m is the number of columns in the matrix.\n",
        "# This is because the code iterates over each element in the matrix once.\n"
      ],
      "metadata": {
        "id": "o-eR9WQtK9aT"
      },
      "execution_count": null,
      "outputs": []
    },
    {
      "cell_type": "code",
      "source": [
        "# Question: Find time complexity of below code blocks Problem 3 :\n",
        "# def example_function(arr):\n",
        "# result = 0\n",
        "# for element in arr:\n",
        "# result += element\n",
        "# return result\n",
        "\n",
        "\n",
        "# Answer:\n",
        "# The time complexity of the example_function is O(n).\n",
        "# This is because the loop iterates over each element in the input array once.\n",
        "# Therefore, the number of operations is directly proportional to the size of the input array.\n",
        "\n"
      ],
      "metadata": {
        "id": "MHZexKa-HhlY"
      },
      "execution_count": null,
      "outputs": []
    },
    {
      "cell_type": "code",
      "source": [
        "# Question: Find time complexity of below code blocks\n",
        "# Problem 4 :\n",
        "# def longest_increasing_subsequence(nums):\n",
        "# n = len(nums)\n",
        "# lis = [1] * n\n",
        "# for i in range(1, n):\n",
        "# for j in range(0, i):\n",
        "# if nums[i] > nums[j] and lis[i] < lis[j] + 1:\n",
        "# lis[i] = lis[j] + 1\n",
        "# return max(lis)\n",
        "\n",
        "\n",
        "# Answer:\n",
        "# The time complexity of the longest_increasing_subsequence function is O(n^2).\n",
        "# This is because there are two nested loops that iterate over the input array.\n",
        "# The outer loop iterates n times, and the inner loop iterates i times for each value of i.\n",
        "# Therefore, the total number of operations is proportional to n * n, which is O(n^2).\n"
      ],
      "metadata": {
        "id": "xf1-4h7qHk4K"
      },
      "execution_count": null,
      "outputs": []
    },
    {
      "cell_type": "code",
      "source": [
        "# Question: Find time complexity of below code blocks\n",
        "# Problem 5 :\n",
        "# def mysterious_function(arr):\n",
        "# n = len(arr)\n",
        "# result = 0\n",
        "# for i in range(n):\n",
        "# for j in range(i, n):\n",
        "# result += arr[i] * arr[j]\n",
        "# return result\n",
        "\n",
        "\n",
        "# Answer:\n",
        "# The time complexity of the mysterious_function is O(n^2).\n",
        "# This is because there are two nested loops that iterate over the input array.\n",
        "# The outer loop iterates n times, and the inner loop iterates n - i times for each value of i.\n",
        "# Therefore, the total number of operations is proportional to n * n, which is O(n^2).\n",
        "\n",
        "\n"
      ],
      "metadata": {
        "id": "nzewUVlkHo8E"
      },
      "execution_count": null,
      "outputs": []
    },
    {
      "cell_type": "markdown",
      "source": [
        "# **Solve the following problems on recursion**"
      ],
      "metadata": {
        "id": "jbKSvUI5JDtf"
      }
    },
    {
      "cell_type": "code",
      "source": [
        "# Question: Write a recursive function to calculate the sum of digits of a given positive integer.\n",
        "# sum_of_digits(123) -> 6\n",
        "\n",
        "def sum_of_digits(n):\n",
        "  if n < 10:\n",
        "    return n\n",
        "  else:\n",
        "    return n % 10 + sum_of_digits(n // 10)\n",
        "\n",
        "#test the function\n",
        "print(sum_of_digits(123))"
      ],
      "metadata": {
        "colab": {
          "base_uri": "https://localhost:8080/"
        },
        "id": "UCLSaE8QHzMR",
        "outputId": "f291fcc7-4b8c-4c5c-9989-6111c5df9061"
      },
      "execution_count": 1,
      "outputs": [
        {
          "output_type": "stream",
          "name": "stdout",
          "text": [
            "6\n"
          ]
        }
      ]
    },
    {
      "cell_type": "code",
      "source": [
        "# Question: Write a recursive function to generate the first n numbers of the Fibonacci series.\n",
        "# fibonacci_series(6) -> [0, 1, 1, 2, 3, 5]\n",
        "\n",
        "def fibonacci_series(n):\n",
        "  \"\"\"\n",
        "  Generate the first n numbers of the Fibonacci series.\n",
        "\n",
        "  Args:\n",
        "    n: The number of Fibonacci numbers to generate.\n",
        "\n",
        "  Returns:\n",
        "    A list containing the first n Fibonacci numbers.\n",
        "  \"\"\"\n",
        "  if n <= 0:\n",
        "    return []\n",
        "  elif n == 1:\n",
        "    return [0]\n",
        "  else:\n",
        "    fib_list = [0, 1]\n",
        "    while len(fib_list) < n:\n",
        "      next_fib = fib_list[-1] + fib_list[-2]\n",
        "      fib_list.append(next_fib)\n",
        "    return fib_list\n",
        "\n",
        "\n",
        "#test the function\n",
        "print(fibonacci_series(6))"
      ],
      "metadata": {
        "colab": {
          "base_uri": "https://localhost:8080/"
        },
        "id": "uWwRrSZIH2il",
        "outputId": "b6597768-6e0d-4991-9f70-56e1b5d78e6b"
      },
      "execution_count": 2,
      "outputs": [
        {
          "output_type": "stream",
          "name": "stdout",
          "text": [
            "[0, 1, 1, 2, 3, 5]\n"
          ]
        }
      ]
    },
    {
      "cell_type": "code",
      "source": [
        "# Question: Given a set of positive integers and a target sum, write a recursive function to determine if there exists a subset\n",
        "# of the integers that adds up to the target sum.\n",
        "# subset_sum([3, 34, 4, 12, 5, 2], 9) -> True\n",
        "\n",
        "def subset_sum(nums, target):\n",
        "  \"\"\"\n",
        "  Determine if there exists a subset of the integers that adds up to the target sum.\n",
        "\n",
        "  Args:\n",
        "    nums: A list of positive integers.\n",
        "    target: The target sum.\n",
        "\n",
        "  Returns:\n",
        "    True if there exists a subset that adds up to the target sum, False otherwise.\n",
        "  \"\"\"\n",
        "  def backtrack(index, current_sum):\n",
        "    if current_sum == target:\n",
        "      return True\n",
        "    if index == len(nums) or current_sum > target:\n",
        "      return False\n",
        "\n",
        "    # Include the current number\n",
        "    if backtrack(index + 1, current_sum + nums[index]):\n",
        "      return True\n",
        "\n",
        "    # Exclude the current number\n",
        "    if backtrack(index + 1, current_sum):\n",
        "      return True\n",
        "\n",
        "    return False\n",
        "\n",
        "  return backtrack(0, 0)\n",
        "\n",
        "# test the function\n",
        "print(subset_sum([3, 34, 4, 12, 5, 2], 9))"
      ],
      "metadata": {
        "colab": {
          "base_uri": "https://localhost:8080/"
        },
        "id": "3fSFun32H5Ld",
        "outputId": "0c2f948b-ac86-4821-ab4f-38a5156fc955"
      },
      "execution_count": 3,
      "outputs": [
        {
          "output_type": "stream",
          "name": "stdout",
          "text": [
            "True\n"
          ]
        }
      ]
    },
    {
      "cell_type": "code",
      "source": [
        "# Question: Given a non-empty string and a dictionary of words, write a recursive function to determine if the string can be\n",
        "# segmented into a space-separated sequence of dictionary words.\n",
        "# word_break( leetcode , [ leet , code ]) -> True\n",
        "\n",
        "def word_break(s, word_dict):\n",
        "  \"\"\"\n",
        "  Determine if a string can be segmented into a space-separated sequence of dictionary words.\n",
        "\n",
        "  Args:\n",
        "    s: The input string.\n",
        "    word_dict: A list of words.\n",
        "\n",
        "  Returns:\n",
        "    True if the string can be segmented, False otherwise.\n",
        "  \"\"\"\n",
        "  def word_break_helper(s, word_dict, start):\n",
        "    if start == len(s):\n",
        "      return True\n",
        "    for end in range(start + 1, len(s) + 1):\n",
        "      if s[start:end] in word_dict and word_break_helper(s, word_dict, end):\n",
        "        return True\n",
        "    return False\n",
        "\n",
        "  return word_break_helper(s, word_dict, 0)\n",
        "\n",
        "\n",
        "#test the function\n",
        "print(word_break(\"leetcode\", [\"leet\", \"code\"]))"
      ],
      "metadata": {
        "colab": {
          "base_uri": "https://localhost:8080/"
        },
        "id": "CCNTBf6eH8W1",
        "outputId": "277b5241-cd6a-4d96-c840-447c3b302792"
      },
      "execution_count": 4,
      "outputs": [
        {
          "output_type": "stream",
          "name": "stdout",
          "text": [
            "True\n"
          ]
        }
      ]
    },
    {
      "cell_type": "code",
      "source": [
        "# Question: Implement a recursive function to solve the N Queens problem, where you have to place N queens on an N×N\n",
        "# chessboard in such a way that no two queens threaten each other.\n",
        "# n_queens(4)\n",
        "# [\n",
        "# [\".Q..\",\n",
        "# \"...Q\",\n",
        "# \"Q...\",\n",
        "# \"..Q.\"],\n",
        "# [\"..Q.\",\n",
        "# \"Q...\",\n",
        "# \"...Q\",\n",
        "# \".Q..\"]\n",
        "# ]\n",
        "\n",
        "def n_queens(n):\n",
        "    \"\"\"\n",
        "    Solve the N Queens problem.\n",
        "\n",
        "    Args:\n",
        "      n: The size of the chessboard (N x N).\n",
        "\n",
        "    Returns:\n",
        "      A list of solutions, where each solution is a list of strings representing the board.\n",
        "    \"\"\"\n",
        "    result = []\n",
        "    board = [[\".\"] * n for _ in range(n)]\n",
        "\n",
        "    def is_safe(row, col):\n",
        "        # Check the same column\n",
        "        for i in range(row):\n",
        "            if board[i][col] == \"Q\":\n",
        "                return False\n",
        "        # Check upper left diagonal\n",
        "        i, j = row - 1, col - 1\n",
        "        while i >= 0 and j >= 0:\n",
        "            if board[i][j] == \"Q\":\n",
        "                return False\n",
        "            i -= 1\n",
        "            j -= 1\n",
        "        # Check upper right diagonal\n",
        "        i, j = row - 1, col + 1\n",
        "        while i >= 0 and j < n:\n",
        "            if board[i][j] == \"Q\":\n",
        "                return False\n",
        "            i -= 1\n",
        "            j += 1\n",
        "        return True\n",
        "\n",
        "    def solve_nqueens(row):\n",
        "        if row == n:\n",
        "            temp = [\"\".join(row) for row in board]\n",
        "            result.append(temp)\n",
        "            return\n",
        "        for col in range(n):\n",
        "            if is_safe(row, col):\n",
        "                board[row][col] = \"Q\"\n",
        "                solve_nqueens(row + 1)\n",
        "                board[row][col] = \".\"  # Backtrack\n",
        "\n",
        "    solve_nqueens(0)\n",
        "    return result\n",
        "\n",
        "\n",
        "# test the function\n",
        "print(n_queens(4))"
      ],
      "metadata": {
        "colab": {
          "base_uri": "https://localhost:8080/"
        },
        "id": "xKK8MnMRH_ZN",
        "outputId": "419e046b-40ff-4ce8-8d09-c1a736edcef7"
      },
      "execution_count": 6,
      "outputs": [
        {
          "output_type": "stream",
          "name": "stdout",
          "text": [
            "[['.Q..', '...Q', 'Q...', '..Q.'], ['..Q.', 'Q...', '...Q', '.Q..']]\n"
          ]
        }
      ]
    }
  ]
}